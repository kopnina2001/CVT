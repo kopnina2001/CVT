{
 "cells": [
  {
   "cell_type": "code",
   "execution_count": 3,
   "id": "1d63b812",
   "metadata": {},
   "outputs": [],
   "source": [
    "import numpy as np\n",
    "import scipy as sc\n",
    "from scipy.sparse import dia_matrix, csr_matrix, csc_matrix\n",
    "from scipy.sparse.linalg import spsolve"
   ]
  },
  {
   "cell_type": "code",
   "execution_count": 4,
   "id": "7919eea6",
   "metadata": {},
   "outputs": [],
   "source": [
    "from matplotlib import pyplot as plt"
   ]
  },
  {
   "cell_type": "code",
   "execution_count": null,
   "id": "8b21eb38",
   "metadata": {},
   "outputs": [],
   "source": []
  },
  {
   "cell_type": "code",
   "execution_count": 5,
   "id": "7cbe6326",
   "metadata": {},
   "outputs": [],
   "source": [
    "def boundary(x, y):\n",
    "    return np.sin(np.pi*x)*np.cos(np.pi*y)"
   ]
  },
  {
   "cell_type": "code",
   "execution_count": 6,
   "id": "bf278f77",
   "metadata": {},
   "outputs": [],
   "source": [
    "def function(x, y):\n",
    "    return 2*np.pi**2*boundary(x, y)"
   ]
  },
  {
   "cell_type": "code",
   "execution_count": 62,
   "id": "0c4b4254",
   "metadata": {},
   "outputs": [],
   "source": [
    "def create_matrix(dx, dy, g, n, func):\n",
    "    h = 1 / (n - 1)\n",
    "    N_elem = (n - 2)**2\n",
    "    #row_index = np.zeros(N_elem+1)\n",
    "    #nnz = (n-4)**2 + 16*(n - 4) + 12\n",
    "    #col_index = np.zeros(nnz)\n",
    "    #values = np.zeros(nnz)\n",
    "    f = np.zeros(N_elem)\n",
    "    col1 = -(dx) * np.ones(N_elem)\n",
    "    col2 = -(dy) * np.ones(N_elem)\n",
    "    col3 = (2*(dx + dy)) * np.ones(N_elem)\n",
    "    col4 = -(dy) * np.ones(N_elem)\n",
    "    col5 = -(dx) * np.ones(N_elem)\n",
    "    for i in range(0, n-2):\n",
    "        col2[i*(n-2) + n-3] = 0\n",
    "        col4[i*(n-2) + n-3] = 0\n",
    "    col4 = np.roll(col4, 1)\n",
    "    offsets = np.array([-(n-2), -1, 0, 1,  (n-2)])\n",
    "    data = [col1, col2, col3, col4,col5]\n",
    "    A = csc_matrix(dia_matrix((data, offsets), shape=((n-2)**2, (n-2)**2)))\n",
    "    for j in range(1, n-1):\n",
    "        for i in range(1, n-1):\n",
    "            temp = 0\n",
    "            if i == 1:\n",
    "                if j == 1:\n",
    "                    temp = (dy*g((i)*h, (n - 1 - j + 1)*h)+dx*g((i-1)*h, (n - 1 - j)*h)) #/ h**2\n",
    "                elif j == n - 2:\n",
    "                    temp = (dy*g((i)*h, (n - 1 - j - 1)*h)+dx*g((i-1)*h, (n - 1 - j)*h)) #/ h**2\n",
    "                else:\n",
    "                    temp = dx*g((i-1)*h, (n - 1 - j)*h)  #/ h**2\n",
    "            elif i == n - 2:\n",
    "                if j == 1:\n",
    "                    temp = (dy*g((i)*h, (n - 1 - j + 1)*h) + dx*g((i + 1)*h, (n - 1 - j)*h)) #/ h**2\n",
    "                elif j == n-2:\n",
    "                    temp = (dy*g((i)*h, (n - 1 - j - 1)*h) + dx*g((i + 1)*h, (n - 1 - j)*h)) #/ h**2\n",
    "                else:\n",
    "                    temp = dx*g((i-1)*h, (n - 1 - j)*h)  #/ h**2\n",
    "            else:\n",
    "                if j == 1:\n",
    "                    temp = dy*g(i*h, 1) #/ h**2\n",
    "                elif j == n-2:\n",
    "                    temp = dy*g(i*h, 0) #/ h**2\n",
    "            f[(j-1)*(n - 2) + (i - 1)] = (func(i*h, (n - 1 - j)*h)*h**2 + temp)\n",
    "    return A, f"
   ]
  },
  {
   "cell_type": "code",
   "execution_count": 8,
   "id": "bf2aaa8a",
   "metadata": {},
   "outputs": [
    {
     "name": "stdout",
     "output_type": "stream",
     "text": [
      "h =  0.005025125628140704\n"
     ]
    }
   ],
   "source": [
    "A_new, f_new = create_matrix(1, 1, boundary, 200, function)"
   ]
  },
  {
   "cell_type": "code",
   "execution_count": 11,
   "id": "64f896c7",
   "metadata": {},
   "outputs": [],
   "source": [
    "#A_new.toarray()"
   ]
  },
  {
   "cell_type": "code",
   "execution_count": 12,
   "id": "3952366b",
   "metadata": {},
   "outputs": [
    {
     "data": {
      "text/plain": [
       "array([-0.01579411, -0.03158428, -0.04736659, ...,  0.04736659,\n",
       "        0.03158428,  0.01579411])"
      ]
     },
     "execution_count": 12,
     "metadata": {},
     "output_type": "execute_result"
    }
   ],
   "source": [
    "f_new"
   ]
  },
  {
   "cell_type": "code",
   "execution_count": 13,
   "id": "78d8588f",
   "metadata": {},
   "outputs": [],
   "source": [
    "x_sol = spsolve(A_new, f_new)"
   ]
  },
  {
   "cell_type": "code",
   "execution_count": 14,
   "id": "32cf2163",
   "metadata": {},
   "outputs": [
    {
     "data": {
      "text/plain": [
       "array([-0.01578438, -0.03156483, -0.04733741, ...,  0.05256806,\n",
       "        0.03776618,  0.02200191])"
      ]
     },
     "execution_count": 14,
     "metadata": {},
     "output_type": "execute_result"
    }
   ],
   "source": [
    "x_sol"
   ]
  },
  {
   "cell_type": "code",
   "execution_count": 15,
   "id": "61dc1814",
   "metadata": {},
   "outputs": [
    {
     "data": {
      "text/plain": [
       "0.9998830007791046"
      ]
     },
     "execution_count": 15,
     "metadata": {},
     "output_type": "execute_result"
    }
   ],
   "source": [
    "max(x_sol)"
   ]
  },
  {
   "cell_type": "code",
   "execution_count": 16,
   "id": "5e1eaf72",
   "metadata": {},
   "outputs": [],
   "source": [
    "def check(g, sol, n):\n",
    "    temp = 0\n",
    "    h = 1 / (n - 1)\n",
    "    for j in range(1, n-1):\n",
    "        for i  in range(1, n-1):\n",
    "            #print(\"g = \", g(i*h, (n - 1 - j)*h))\n",
    "            #print(abs(g(i*h, (n - 1 - j)*h) - sol[(j-1)*(n - 2) + (i - 1)]))\n",
    "            temp = max(temp, abs(g(i*h, (n - 1 - j)*h) - sol[(j-1)*(n - 2) + (i - 1)]))\n",
    "    return temp"
   ]
  },
  {
   "cell_type": "code",
   "execution_count": 17,
   "id": "ec1dc12f",
   "metadata": {},
   "outputs": [
    {
     "data": {
      "text/plain": [
       "0.029224850245392252"
      ]
     },
     "execution_count": 17,
     "metadata": {},
     "output_type": "execute_result"
    }
   ],
   "source": [
    "check(boundary, x_sol, 200)"
   ]
  },
  {
   "cell_type": "code",
   "execution_count": 63,
   "id": "9f9bf473",
   "metadata": {},
   "outputs": [
    {
     "name": "stdout",
     "output_type": "stream",
     "text": [
      "0.20609770032253732\n",
      "0.19138097498564582\n",
      "0.1507478141484938\n",
      "0.12201388525809401\n",
      "0.10192627542996498\n",
      "0.08747362308562168\n",
      "0.07660831019227426\n",
      "0.06806591315856306\n",
      "0.06128613842234893\n",
      "0.055710562073078125\n"
     ]
    }
   ],
   "source": [
    "N_values = np.array([10*i for i in range(1, 11)])\n",
    "c_norm = []\n",
    "for val in N_values:\n",
    "    A_new, f_new = create_matrix(1, 1, boundary, val, function)\n",
    "    x_sol = spsolve(A_new, f_new)\n",
    "    c_norm.append(check(boundary, x_sol, val))\n",
    "    print(c_norm[-1])"
   ]
  },
  {
   "cell_type": "code",
   "execution_count": 64,
   "id": "8f7b24c3",
   "metadata": {},
   "outputs": [],
   "source": [
    "h_values = 1 / (N_values - 1)"
   ]
  },
  {
   "cell_type": "code",
   "execution_count": 65,
   "id": "e79f0e5b",
   "metadata": {},
   "outputs": [],
   "source": [
    "h_values = np.flip(h_values)"
   ]
  },
  {
   "cell_type": "code",
   "execution_count": 66,
   "id": "a41b84d8",
   "metadata": {},
   "outputs": [],
   "source": [
    "c_norm = np.flip(np.array(c_norm))"
   ]
  },
  {
   "cell_type": "code",
   "execution_count": 68,
   "id": "2a303360",
   "metadata": {},
   "outputs": [
    {
     "data": {
      "image/png": "[encoded data removed]",
      "text/plain": [
       "<Figure size 800x480 with 1 Axes>"
      ]
     },
     "metadata": {
      "needs_background": "light"
     },
     "output_type": "display_data"
    }
   ],
   "source": [
    "plt.figure(figsize=(10, 6), dpi=80)\n",
    "plt.xscale('log')\n",
    "plt.yscale('log')\n",
    "plt.plot(h_values, c_norm, color='blue', label='c-норма')\n",
    "plt.xlabel(\"$h = 1/N$\")\n",
    "plt.ylabel(\"Error\")\n",
    "plt.legend()\n",
    "plt.grid()\n",
    "plt.show()"
   ]
  },
  {
   "cell_type": "code",
   "execution_count": 69,
   "id": "4eaa7582",
   "metadata": {},
   "outputs": [
    {
     "data": {
      "text/plain": [
       "array([0.01010101, 0.01123596, 0.01265823, 0.01449275, 0.01694915,\n",
       "       0.02040816, 0.02564103, 0.03448276, 0.05263158, 0.11111111])"
      ]
     },
     "execution_count": 69,
     "metadata": {},
     "output_type": "execute_result"
    }
   ],
   "source": [
    "h_values"
   ]
  },
  {
   "cell_type": "code",
   "execution_count": 70,
   "id": "7cfebc7d",
   "metadata": {},
   "outputs": [
    {
     "data": {
      "text/plain": [
       "array([0.05571056, 0.06128614, 0.06806591, 0.07660831, 0.08747362,\n",
       "       0.10192628, 0.12201389, 0.15074781, 0.19138097, 0.2060977 ])"
      ]
     },
     "execution_count": 70,
     "metadata": {},
     "output_type": "execute_result"
    }
   ],
   "source": [
    "c_norm"
   ]
  },
  {
   "cell_type": "code",
   "execution_count": null,
   "id": "6ab41053",
   "metadata": {},
   "outputs": [],
   "source": [
    "\n",
    "array([0.02      , 0.01      , 0.00666667, 0.005     , 0.004     ,\n",
    "       0.00333333, 0.00285714, 0.0025    , 0.00222222, 0.002     ])"
   ]
  },
  {
   "cell_type": "code",
   "execution_count": null,
   "id": "bb60193b",
   "metadata": {},
   "outputs": [],
   "source": [
    "[0.10192627542996498,\n",
    " 0.055710562073078125,\n",
    " 0.0383209452362315,\n",
    " 0.029224850245392252,\n",
    " 0.023629486084863496,\n",
    " 0.019837806139304328,\n",
    " 0.017098055968967005,\n",
    " 0.01502528195534575,\n",
    " 0.013402223569909777,\n",
    " 0.012096729174412145]"
   ]
  }
 ],
 "metadata": {
  "kernelspec": {
   "display_name": "Python 3 (ipykernel)",
   "language": "python",
   "name": "python3"
  },
  "language_info": {
   "codemirror_mode": {
    "name": "ipython",
    "version": 3
   },
   "file_extension": ".py",
   "mimetype": "text/x-python",
   "name": "python",
   "nbconvert_exporter": "python",
   "pygments_lexer": "ipython3",
   "version": "3.8.10"
  }
 },
 "nbformat": 4,
 "nbformat_minor": 5
}
